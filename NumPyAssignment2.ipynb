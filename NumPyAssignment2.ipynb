{
 "cells": [
  {
   "cell_type": "markdown",
   "id": "c3948de6",
   "metadata": {},
   "source": [
    "## NumPy Assignment II"
   ]
  },
  {
   "cell_type": "code",
   "execution_count": 3,
   "id": "8ab37541",
   "metadata": {},
   "outputs": [
    {
     "data": {
      "text/plain": [
       "array([6, 3, 6, 2, 6])"
      ]
     },
     "execution_count": 3,
     "metadata": {},
     "output_type": "execute_result"
    }
   ],
   "source": [
    "import numpy as np\n",
    "# Creating a vector of length 5 filled with arbitrary integers from 0 to 10\n",
    "vec_5 = np.random.randint(0, 11, 5)\n",
    "vec_5"
   ]
  },
  {
   "cell_type": "code",
   "execution_count": 6,
   "id": "df3ba303",
   "metadata": {},
   "outputs": [
    {
     "name": "stdout",
     "output_type": "stream",
     "text": [
      "[15 16 17 18 19 20 21 22 23 24 25 26 27 28 29 30 31 32 33 34 35 36 37 38\n",
      " 39 40 41 42 43 44 45 46 47 48 49 50 51 52 53 54 55]\n",
      "\n",
      "\n",
      "[16 17 18 19 20 21 22 23 24 25 26 27 28 29 30 31 32 33 34 35 36 37 38 39\n",
      " 40 41 42 43 44 45 46 47 48 49 50 51 52 53 54]\n"
     ]
    }
   ],
   "source": [
    "# Creating a vector of values ranging from 15 to 55\n",
    "vec_range = np.arange(15, 56)\n",
    "print(vec_range)\n",
    "print(\"\\n\")\n",
    "\n",
    "# Print all the values except the first and last\n",
    "print(vec_range[1:-1])"
   ]
  },
  {
   "cell_type": "code",
   "execution_count": 10,
   "id": "ec8cd9b4",
   "metadata": {},
   "outputs": [
    {
     "name": "stdout",
     "output_type": "stream",
     "text": [
      "[[1 2 3]\n",
      " [4 5 6]\n",
      " [7 8 9]]\n",
      "\n",
      "\n",
      "[[ 1  2  3]\n",
      " [ 5  7  9]\n",
      " [12 15 18]]\n",
      "\n",
      "\n",
      "[ 6  9 12]\n"
     ]
    }
   ],
   "source": [
    "# Create a 3x3 array\n",
    "arr = np.array([[1, 2, 3], [4, 5, 6], [7, 8, 9]])\n",
    "print(arr)\n",
    "print(\"\\n\")\n",
    "\n",
    "# Compute the cumulative sum along axis 0\n",
    "cum_sum = np.cumsum(arr, axis=0)\n",
    "print(cum_sum)\n",
    "print(\"\\n\")\n",
    "\n",
    "# Sum over columns for each of the first two rows\n",
    "sum_rows = np.sum(cum_sum[:2, :], axis=0)\n",
    "print(sum_rows)"
   ]
  },
  {
   "cell_type": "code",
   "execution_count": 17,
   "id": "b2a7783f",
   "metadata": {},
   "outputs": [
    {
     "name": "stdout",
     "output_type": "stream",
     "text": [
      "[[19 22]\n",
      " [43 50]]\n"
     ]
    }
   ],
   "source": [
    "# Create two matrices\n",
    "mat_A = np.array([[1, 2], [3, 4]])\n",
    "mat_B = np.array([[5, 6], [7, 8]])\n",
    "\n",
    "# Compute the matrix multiplication\n",
    "mat_C = mat_A @ mat_B\n",
    "print(mat_C)"
   ]
  }
 ],
 "metadata": {
  "kernelspec": {
   "display_name": "Python 3 (ipykernel)",
   "language": "python",
   "name": "python3"
  },
  "language_info": {
   "codemirror_mode": {
    "name": "ipython",
    "version": 3
   },
   "file_extension": ".py",
   "mimetype": "text/x-python",
   "name": "python",
   "nbconvert_exporter": "python",
   "pygments_lexer": "ipython3",
   "version": "3.9.13"
  }
 },
 "nbformat": 4,
 "nbformat_minor": 5
}
